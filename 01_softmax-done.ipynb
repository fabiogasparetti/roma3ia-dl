{
  "nbformat": 4,
  "nbformat_minor": 0,
  "metadata": {
    "kernelspec": {
      "display_name": "Python 3",
      "language": "python",
      "name": "python3"
    },
    "language_info": {
      "codemirror_mode": {
        "name": "ipython",
        "version": 3
      },
      "file_extension": ".py",
      "mimetype": "text/x-python",
      "name": "python",
      "nbconvert_exporter": "python",
      "pygments_lexer": "ipython3",
      "version": "3.6.1"
    },
    "colab": {
      "name": "01_softmax-done.ipynb",
      "version": "0.3.2",
      "provenance": [],
      "include_colab_link": true
    }
  },
  "cells": [
    {
      "cell_type": "markdown",
      "metadata": {
        "id": "view-in-github",
        "colab_type": "text"
      },
      "source": [
        "<a href=\"https://colab.research.google.com/github/fabiogasparetti/roma3ia-dl/blob/master/01_softmax-done.ipynb\" target=\"_parent\"><img src=\"https://colab.research.google.com/assets/colab-badge.svg\" alt=\"Open In Colab\"/></a>"
      ]
    },
    {
      "cell_type": "markdown",
      "metadata": {
        "id": "oHn0BcrRDGKs",
        "colab_type": "text"
      },
      "source": [
        "# Unita: Softmax\n",
        "\n",
        "## Funzione Softmax ed esempi di output1"
      ]
    },
    {
      "cell_type": "code",
      "metadata": {
        "id": "RRfkLARfDGKu",
        "colab_type": "code",
        "colab": {}
      },
      "source": [
        "import math"
      ],
      "execution_count": 0,
      "outputs": []
    },
    {
      "cell_type": "code",
      "metadata": {
        "id": "7FCExEgJDGK9",
        "colab_type": "code",
        "colab": {}
      },
      "source": [
        "# Problema #1\n",
        "#\n",
        "# Calcola la funzione softmax di un vettore."
      ],
      "execution_count": 0,
      "outputs": []
    },
    {
      "cell_type": "code",
      "metadata": {
        "id": "68WI-OaeDGLJ",
        "colab_type": "code",
        "colab": {}
      },
      "source": [
        "def softmax(scores):\n",
        "    y_exp = [math.exp(y) for y in scores]\n",
        "    sum_y_exp = sum(y_exp)\n",
        "    # print(\"sum_y_exp %f\" % round(sum_y_exp, 2))\n",
        "    softmax = [round(y / sum_y_exp, 3) for y in y_exp]\n",
        "    return softmax"
      ],
      "execution_count": 0,
      "outputs": []
    },
    {
      "cell_type": "code",
      "metadata": {
        "id": "G46eXfC6DGLP",
        "colab_type": "code",
        "colab": {}
      },
      "source": [
        "# Problema #2\n",
        "#\n",
        "# Valuta la funzione softmax su [2.0, 1.0, 0.1]"
      ],
      "execution_count": 0,
      "outputs": []
    },
    {
      "cell_type": "code",
      "metadata": {
        "id": "BEdoLMX2DGLX",
        "colab_type": "code",
        "colab": {}
      },
      "source": [
        "y = [2.0, 1.0, 0.1]"
      ],
      "execution_count": 0,
      "outputs": []
    },
    {
      "cell_type": "code",
      "metadata": {
        "id": "StmbTGL_DGLc",
        "colab_type": "code",
        "colab": {},
        "outputId": "cf62ad28-9d31-4e8e-c149-850c6763584f"
      },
      "source": [
        "scores = softmax(y)\n",
        "print(scores)"
      ],
      "execution_count": 0,
      "outputs": [
        {
          "output_type": "stream",
          "text": [
            "[0.752, 0.127, 0.12]\n"
          ],
          "name": "stdout"
        }
      ]
    },
    {
      "cell_type": "code",
      "metadata": {
        "id": "D3BuhYJeDGLz",
        "colab_type": "code",
        "colab": {}
      },
      "source": [
        "# L'elemento con indice 0 ha probabilita' più alta"
      ],
      "execution_count": 0,
      "outputs": []
    },
    {
      "cell_type": "code",
      "metadata": {
        "id": "VDJTNinJDGL2",
        "colab_type": "code",
        "colab": {}
      },
      "source": [
        "# Problema #3\n",
        "#\n",
        "# Valuta il nuovo risultato quando un elemento del vettore assume valore doppio."
      ],
      "execution_count": 0,
      "outputs": []
    },
    {
      "cell_type": "code",
      "metadata": {
        "id": "FCSl2sIIDGL7",
        "colab_type": "code",
        "colab": {},
        "outputId": "4ee67783-a2df-40c7-c167-ae78e67cbc4c"
      },
      "source": [
        "y = [4.0, 1.0, 0.1]\n",
        "scores = softmax(y)\n",
        "print(scores)"
      ],
      "execution_count": 0,
      "outputs": [
        {
          "output_type": "stream",
          "text": [
            "[0.935, 0.047, 0.019]\n"
          ],
          "name": "stdout"
        }
      ]
    },
    {
      "cell_type": "code",
      "metadata": {
        "id": "Guua1SQ6DGMC",
        "colab_type": "code",
        "colab": {}
      },
      "source": [
        "# La discrepanza tra i valori aumenta non linearmente. "
      ],
      "execution_count": 0,
      "outputs": []
    },
    {
      "cell_type": "code",
      "metadata": {
        "id": "maY2-M7vDGMF",
        "colab_type": "code",
        "colab": {}
      },
      "source": [
        "# Problema #4\n",
        "#\n",
        "# Valuta il nuovo risultato quando moltiplico l'intero vettore originale per 2."
      ],
      "execution_count": 0,
      "outputs": []
    },
    {
      "cell_type": "code",
      "metadata": {
        "id": "ecsizK2VDGMI",
        "colab_type": "code",
        "colab": {},
        "outputId": "d9fa1774-797d-4c9f-9be3-35eb626c1f19"
      },
      "source": [
        "y = [2.0, 1.0, 0.1]\n",
        "y = [y1 * 2 for y1 in y]\n",
        "scores = softmax(y)\n",
        "print(scores)"
      ],
      "execution_count": 0,
      "outputs": [
        {
          "output_type": "stream",
          "text": [
            "[0.864, 0.117, 0.019]\n"
          ],
          "name": "stdout"
        }
      ]
    },
    {
      "cell_type": "code",
      "metadata": {
        "id": "zOCZLgTqDGMQ",
        "colab_type": "code",
        "colab": {}
      },
      "source": [
        "# La discrepanza tra i valori aumenta.\n",
        "# La funzione softmax produce risultati diversi a seconda della magnitudine del vettore in ingresso."
      ],
      "execution_count": 0,
      "outputs": []
    },
    {
      "cell_type": "code",
      "metadata": {
        "id": "lFxxk9YoDGMZ",
        "colab_type": "code",
        "colab": {},
        "outputId": "24e077b8-2c22-4e03-cd31-ccd361584b6e"
      },
      "source": [
        "y = [108.0, 100.0, 100.0]\n",
        "scores = softmax(y)\n",
        "print(scores)"
      ],
      "execution_count": 0,
      "outputs": [
        {
          "output_type": "stream",
          "text": [
            "[0.999, 0.0, 0.0]\n"
          ],
          "name": "stdout"
        }
      ]
    },
    {
      "cell_type": "code",
      "metadata": {
        "id": "w9StSep0DGMf",
        "colab_type": "code",
        "colab": {}
      },
      "source": [
        "# In casi estremi ottengo probabilità molto \"polarizzate\""
      ],
      "execution_count": 0,
      "outputs": []
    },
    {
      "cell_type": "code",
      "metadata": {
        "id": "Jzzm__eeDGMj",
        "colab_type": "code",
        "colab": {},
        "outputId": "0729accd-5ac3-4285-814b-dd5fb151a20a"
      },
      "source": [
        "y = [1000.0, 1100.0, 1000.0]\n",
        "scores = softmax(y)\n",
        "print(scores)"
      ],
      "execution_count": 0,
      "outputs": [
        {
          "output_type": "error",
          "ename": "OverflowError",
          "evalue": "math range error",
          "traceback": [
            "\u001b[0;31m---------------------------------------------------------------------------\u001b[0m",
            "\u001b[0;31mOverflowError\u001b[0m                             Traceback (most recent call last)",
            "\u001b[0;32m<ipython-input-141-526d06ad8cf9>\u001b[0m in \u001b[0;36m<module>\u001b[0;34m()\u001b[0m\n\u001b[1;32m      1\u001b[0m \u001b[0my\u001b[0m \u001b[0;34m=\u001b[0m \u001b[0;34m[\u001b[0m\u001b[0;36m1000.0\u001b[0m\u001b[0;34m,\u001b[0m \u001b[0;36m1100.0\u001b[0m\u001b[0;34m,\u001b[0m \u001b[0;36m1000.0\u001b[0m\u001b[0;34m]\u001b[0m\u001b[0;34m\u001b[0m\u001b[0m\n\u001b[0;32m----> 2\u001b[0;31m \u001b[0mscores\u001b[0m \u001b[0;34m=\u001b[0m \u001b[0msoftmax\u001b[0m\u001b[0;34m(\u001b[0m\u001b[0my\u001b[0m\u001b[0;34m)\u001b[0m\u001b[0;34m\u001b[0m\u001b[0m\n\u001b[0m\u001b[1;32m      3\u001b[0m \u001b[0mprint\u001b[0m\u001b[0;34m(\u001b[0m\u001b[0mscores\u001b[0m\u001b[0;34m)\u001b[0m\u001b[0;34m\u001b[0m\u001b[0m\n",
            "\u001b[0;32m<ipython-input-86-9d4d2507ff38>\u001b[0m in \u001b[0;36msoftmax\u001b[0;34m(scores)\u001b[0m\n\u001b[1;32m      1\u001b[0m \u001b[0;32mdef\u001b[0m \u001b[0msoftmax\u001b[0m\u001b[0;34m(\u001b[0m\u001b[0mscores\u001b[0m\u001b[0;34m)\u001b[0m\u001b[0;34m:\u001b[0m\u001b[0;34m\u001b[0m\u001b[0m\n\u001b[0;32m----> 2\u001b[0;31m     \u001b[0my_exp\u001b[0m \u001b[0;34m=\u001b[0m \u001b[0;34m[\u001b[0m\u001b[0mmath\u001b[0m\u001b[0;34m.\u001b[0m\u001b[0mexp\u001b[0m\u001b[0;34m(\u001b[0m\u001b[0my\u001b[0m\u001b[0;34m)\u001b[0m \u001b[0;32mfor\u001b[0m \u001b[0my\u001b[0m \u001b[0;32min\u001b[0m \u001b[0mscores\u001b[0m\u001b[0;34m]\u001b[0m\u001b[0;34m\u001b[0m\u001b[0m\n\u001b[0m\u001b[1;32m      3\u001b[0m     \u001b[0msum_y_exp\u001b[0m \u001b[0;34m=\u001b[0m \u001b[0msum\u001b[0m\u001b[0;34m(\u001b[0m\u001b[0my_exp\u001b[0m\u001b[0;34m)\u001b[0m\u001b[0;34m\u001b[0m\u001b[0m\n\u001b[1;32m      4\u001b[0m     \u001b[0;31m# print(\"sum_y_exp %f\" % round(sum_y_exp, 2))\u001b[0m\u001b[0;34m\u001b[0m\u001b[0;34m\u001b[0m\u001b[0m\n\u001b[1;32m      5\u001b[0m     \u001b[0msoftmax\u001b[0m \u001b[0;34m=\u001b[0m \u001b[0;34m[\u001b[0m\u001b[0mround\u001b[0m\u001b[0;34m(\u001b[0m\u001b[0my\u001b[0m \u001b[0;34m/\u001b[0m \u001b[0msum_y_exp\u001b[0m\u001b[0;34m,\u001b[0m \u001b[0;36m3\u001b[0m\u001b[0;34m)\u001b[0m \u001b[0;32mfor\u001b[0m \u001b[0my\u001b[0m \u001b[0;32min\u001b[0m \u001b[0my_exp\u001b[0m\u001b[0;34m]\u001b[0m\u001b[0;34m\u001b[0m\u001b[0m\n",
            "\u001b[0;32m<ipython-input-86-9d4d2507ff38>\u001b[0m in \u001b[0;36m<listcomp>\u001b[0;34m(.0)\u001b[0m\n\u001b[1;32m      1\u001b[0m \u001b[0;32mdef\u001b[0m \u001b[0msoftmax\u001b[0m\u001b[0;34m(\u001b[0m\u001b[0mscores\u001b[0m\u001b[0;34m)\u001b[0m\u001b[0;34m:\u001b[0m\u001b[0;34m\u001b[0m\u001b[0m\n\u001b[0;32m----> 2\u001b[0;31m     \u001b[0my_exp\u001b[0m \u001b[0;34m=\u001b[0m \u001b[0;34m[\u001b[0m\u001b[0mmath\u001b[0m\u001b[0;34m.\u001b[0m\u001b[0mexp\u001b[0m\u001b[0;34m(\u001b[0m\u001b[0my\u001b[0m\u001b[0;34m)\u001b[0m \u001b[0;32mfor\u001b[0m \u001b[0my\u001b[0m \u001b[0;32min\u001b[0m \u001b[0mscores\u001b[0m\u001b[0;34m]\u001b[0m\u001b[0;34m\u001b[0m\u001b[0m\n\u001b[0m\u001b[1;32m      3\u001b[0m     \u001b[0msum_y_exp\u001b[0m \u001b[0;34m=\u001b[0m \u001b[0msum\u001b[0m\u001b[0;34m(\u001b[0m\u001b[0my_exp\u001b[0m\u001b[0;34m)\u001b[0m\u001b[0;34m\u001b[0m\u001b[0m\n\u001b[1;32m      4\u001b[0m     \u001b[0;31m# print(\"sum_y_exp %f\" % round(sum_y_exp, 2))\u001b[0m\u001b[0;34m\u001b[0m\u001b[0;34m\u001b[0m\u001b[0m\n\u001b[1;32m      5\u001b[0m     \u001b[0msoftmax\u001b[0m \u001b[0;34m=\u001b[0m \u001b[0;34m[\u001b[0m\u001b[0mround\u001b[0m\u001b[0;34m(\u001b[0m\u001b[0my\u001b[0m \u001b[0;34m/\u001b[0m \u001b[0msum_y_exp\u001b[0m\u001b[0;34m,\u001b[0m \u001b[0;36m3\u001b[0m\u001b[0;34m)\u001b[0m \u001b[0;32mfor\u001b[0m \u001b[0my\u001b[0m \u001b[0;32min\u001b[0m \u001b[0my_exp\u001b[0m\u001b[0;34m]\u001b[0m\u001b[0;34m\u001b[0m\u001b[0m\n",
            "\u001b[0;31mOverflowError\u001b[0m: math range error"
          ]
        }
      ]
    },
    {
      "cell_type": "code",
      "metadata": {
        "id": "DfCQRJvnDGMt",
        "colab_type": "code",
        "colab": {}
      },
      "source": [
        "# O overflow (float64 può rappresentare al max 10^308)"
      ],
      "execution_count": 0,
      "outputs": []
    },
    {
      "cell_type": "code",
      "metadata": {
        "id": "iDhXavaGDGMy",
        "colab_type": "code",
        "colab": {}
      },
      "source": [
        "# Prova ad aggiungere all'esponente (del numeratore e denominatore) un valore costante C, \n",
        "# dove C = -max{scores}\n",
        "# Cosa succede?"
      ],
      "execution_count": 0,
      "outputs": []
    }
  ]
}