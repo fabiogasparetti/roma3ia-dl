{
 "cells": [
  {
   "cell_type": "markdown",
   "metadata": {},
   "source": [
    "# Unita: Softmax\n",
    "\n",
    "## Funzione Softmax ed esempi di output"
   ]
  },
  {
   "cell_type": "code",
   "execution_count": 25,
   "metadata": {
    "collapsed": true
   },
   "outputs": [],
   "source": [
    "import math"
   ]
  },
  {
   "cell_type": "code",
   "execution_count": 85,
   "metadata": {
    "collapsed": true
   },
   "outputs": [],
   "source": [
    "# Problema #1\n",
    "#\n",
    "# Calcola la funzione softmax di un vettore."
   ]
  },
  {
   "cell_type": "code",
   "execution_count": 86,
   "metadata": {
    "collapsed": true
   },
   "outputs": [],
   "source": [
    "def softmax(scores):\n",
    "    y_exp = [math.exp(y) for y in scores]\n",
    "    sum_y_exp = sum(y_exp)\n",
    "    # print(\"sum_y_exp %f\" % round(sum_y_exp, 2))\n",
    "    softmax = [round(y / sum_y_exp, 3) for y in y_exp]\n",
    "    return softmax"
   ]
  },
  {
   "cell_type": "code",
   "execution_count": 87,
   "metadata": {
    "collapsed": true
   },
   "outputs": [],
   "source": [
    "# Problema #2\n",
    "#\n",
    "# Valuta la funzione softmax su [2.0, 1.0, 0.1]"
   ]
  },
  {
   "cell_type": "code",
   "execution_count": 107,
   "metadata": {
    "collapsed": true
   },
   "outputs": [],
   "source": [
    "y = [2.0, 1.0, 0.1]"
   ]
  },
  {
   "cell_type": "code",
   "execution_count": 114,
   "metadata": {},
   "outputs": [
    {
     "name": "stdout",
     "output_type": "stream",
     "text": [
      "[0.752, 0.127, 0.12]\n"
     ]
    }
   ],
   "source": [
    "scores = softmax(y)\n",
    "print(scores)"
   ]
  },
  {
   "cell_type": "code",
   "execution_count": 115,
   "metadata": {
    "collapsed": true
   },
   "outputs": [],
   "source": [
    "# L'elemento con indice 0 ha probabilita' più alta"
   ]
  },
  {
   "cell_type": "code",
   "execution_count": 116,
   "metadata": {
    "collapsed": true
   },
   "outputs": [],
   "source": [
    "# Problema #3\n",
    "#\n",
    "# Valuta il nuovo risultato quando un elemento del vettore assume valore doppio."
   ]
  },
  {
   "cell_type": "code",
   "execution_count": 117,
   "metadata": {},
   "outputs": [
    {
     "name": "stdout",
     "output_type": "stream",
     "text": [
      "[0.935, 0.047, 0.019]\n"
     ]
    }
   ],
   "source": [
    "y = [4.0, 1.0, 0.1]\n",
    "scores = softmax(y)\n",
    "print(scores)"
   ]
  },
  {
   "cell_type": "code",
   "execution_count": 127,
   "metadata": {
    "collapsed": true
   },
   "outputs": [],
   "source": [
    "# La discrepanza tra i valori aumenta non linearmente. "
   ]
  },
  {
   "cell_type": "code",
   "execution_count": 128,
   "metadata": {
    "collapsed": true
   },
   "outputs": [],
   "source": [
    "# Problema #4\n",
    "#\n",
    "# Valuta il nuovo risultato quando moltiplico l'intero vettore originale per 2."
   ]
  },
  {
   "cell_type": "code",
   "execution_count": 129,
   "metadata": {},
   "outputs": [
    {
     "name": "stdout",
     "output_type": "stream",
     "text": [
      "[0.864, 0.117, 0.019]\n"
     ]
    }
   ],
   "source": [
    "y = [2.0, 1.0, 0.1]\n",
    "y = [y1 * 2 for y1 in y]\n",
    "scores = softmax(y)\n",
    "print(scores)"
   ]
  },
  {
   "cell_type": "code",
   "execution_count": 106,
   "metadata": {
    "collapsed": true
   },
   "outputs": [],
   "source": [
    "# La discrepanza tra i valori aumenta.\n",
    "# La funzione softmax produce risultati diversi a seconda della magnitudine del vettore in ingresso."
   ]
  }
 ],
 "metadata": {
  "kernelspec": {
   "display_name": "Python 3",
   "language": "python",
   "name": "python3"
  },
  "language_info": {
   "codemirror_mode": {
    "name": "ipython",
    "version": 3
   },
   "file_extension": ".py",
   "mimetype": "text/x-python",
   "name": "python",
   "nbconvert_exporter": "python",
   "pygments_lexer": "ipython3",
   "version": "3.6.1"
  }
 },
 "nbformat": 4,
 "nbformat_minor": 2
}
