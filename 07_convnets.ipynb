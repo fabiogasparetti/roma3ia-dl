{
 "cells": [
  {
   "cell_type": "code",
   "execution_count": 1,
   "metadata": {
    "collapsed": true
   },
   "outputs": [],
   "source": [
    "# Unita: Convolutional Neural Networks\n",
    "\n",
    "## Architetture basate su CNN "
   ]
  },
  {
   "cell_type": "code",
   "execution_count": 1,
   "metadata": {
    "collapsed": true
   },
   "outputs": [],
   "source": [
    "# These are all the modules we'll be using later. Make sure you can import them\n",
    "# before proceeding further.\n",
    "from __future__ import print_function\n",
    "import numpy as np\n",
    "import tensorflow as tf\n",
    "# Python 2 and 3 Compatibility Library\n",
    "from six.moves import cPickle as pickle\n",
    "from six.moves import range"
   ]
  },
  {
   "cell_type": "code",
   "execution_count": 27,
   "metadata": {
    "collapsed": true
   },
   "outputs": [],
   "source": [
    "pickle_file = \"../datasets/notMNIST.pickle\"\n",
    "\n",
    "with open(pickle_file, 'rb') as f:\n",
    "  save = pickle.load(f)\n",
    "  train_dataset = save['train_dataset']\n",
    "  train_labels = save['train_labels']\n",
    "  valid_dataset = save['valid_dataset']\n",
    "  valid_labels = save['valid_labels']\n",
    "  test_dataset = save['test_dataset']\n",
    "  test_labels = save['test_labels']\n",
    "  del save  \n",
    "\n",
    "image_size = 28\n",
    "num_labels = 10\n",
    "# La profondità dei dati in input\n",
    "num_channels = 1 # grayscale \n",
    "\n",
    "def reformat(dataset, labels):\n",
    "  # Questa volta il dataset lo organizziamo in matrici di dimensioni <image_size,image_size,num_channels>\n",
    "  dataset = dataset.reshape(\n",
    "    (-1, image_size, image_size, num_channels)).astype(np.float32)\n",
    "  labels = (np.arange(num_labels) == labels[:,None]).astype(np.float32)\n",
    "  return dataset, labels\n",
    "\n",
    "  dataset = dataset.reshape((-1, image_size * image_size)).astype(np.float32)\n",
    "  labels = (np.arange(num_labels) == labels[:,None]).astype(np.float32)\n",
    "  return dataset, labels\n",
    "\n",
    "train_dataset, train_labels = reformat(train_dataset, train_labels)\n",
    "valid_dataset, valid_labels = reformat(valid_dataset, valid_labels)\n",
    "test_dataset, test_labels = reformat(test_dataset, test_labels)\n",
    "\n",
    "def accuracy(predictions, labels):\n",
    "  return (100.0 * np.sum(np.argmax(predictions, 1) == np.argmax(labels, 1))\n",
    "          / predictions.shape[0])"
   ]
  },
  {
   "cell_type": "code",
   "execution_count": 28,
   "metadata": {
    "collapsed": true
   },
   "outputs": [],
   "source": [
    "## PROBLEMA #1\n",
    "# Costruiamo una Convnet con 2 convolutional layers e un full-connected layer.\n",
    "# Il numero di parametri aumenta, attenzione al numero di nodi da definire.\n",
    "\n",
    "# Suggerimento: la funzione tf.nn.conv2d calcola la convoluzione\n",
    "# Prende in input un tensore [filter_height, filter_width, in_channels, out_channels]"
   ]
  },
  {
   "cell_type": "code",
   "execution_count": 15,
   "metadata": {},
   "outputs": [
    {
     "name": "stdout",
     "output_type": "stream",
     "text": [
      "14.0\n",
      "7.0\n"
     ]
    }
   ],
   "source": [
    "# Quanto è la dimensione dei due convolutional layers?\n",
    "\n",
    "output_1 = (28.00 - 5.00 - (-2.00)) / 2.00 + 1.00\n",
    "print(np.ceil(output_1))\n",
    "output_2 = (output_1 - 5.00 - (-2.00)) / 2.00 + 1.00\n",
    "print(np.ceil(output_2))"
   ]
  },
  {
   "cell_type": "code",
   "execution_count": 16,
   "metadata": {},
   "outputs": [
    {
     "name": "stdout",
     "output_type": "stream",
     "text": [
      "7\n"
     ]
    }
   ],
   "source": [
    "# Definiamo una funzione che, data la dimensione del layer in input, la dimensione del filtro,\n",
    "# padding (SAME o VALID), restituisca la dimensione del layer ottenuto applicando il filtro al layer in input 2 volte.\n",
    "def output_size_no_pool(input_size, filter_size, padding='SAME', stride=2):\n",
    "    if padding == 'SAME':\n",
    "        padding = -1.00\n",
    "    elif padding == 'VALID':\n",
    "        padding = 0.00\n",
    "    else:\n",
    "        return None\n",
    "    output_1 = float(((input_size - filter_size - 2*padding) / stride) + 1.00)\n",
    "    output_2 = float(((output_1 - filter_size - 2*padding) / stride) + 1.00)\n",
    "    return int(np.ceil(output_2))\n",
    "\n",
    "patch_size = 5\n",
    "final_image_size = output_size_no_pool(image_size, patch_size, padding='SAME', stride=2)\n",
    "print(final_image_size)"
   ]
  },
  {
   "cell_type": "code",
   "execution_count": 17,
   "metadata": {
    "collapsed": true
   },
   "outputs": [],
   "source": [
    "batch_size = 16\n",
    "# Dimensione del local receptive field 5x5\n",
    "patch_size = 5\n",
    "# Numero di feature map (o profondità del filtro)\n",
    "depth = 16\n",
    "# Nodi dell'hidden layer\n",
    "num_hidden = 64\n",
    "# Stride -> Numero di celle che il filtro scorre ad ogni iterazione\n",
    "stride = 2\n",
    "\n",
    "graph = tf.Graph()\n",
    "\n",
    "with graph.as_default():\n",
    "\n",
    "  # Per compatibilità con TF abbiamo in input una struttura composta da una minibatch di matrici \n",
    "  # di dimensioni: image_size x image_size x num_channels (nel nostro caso 28x28x1)\n",
    "  tf_train_dataset = tf.placeholder(\n",
    "    tf.float32, shape=(batch_size, image_size, image_size, num_channels))  \n",
    "  tf_train_labels = tf.placeholder(tf.float32, shape=(batch_size, num_labels))\n",
    "  tf_valid_dataset = tf.constant(valid_dataset)\n",
    "  tf_test_dataset = tf.constant(test_dataset)\n",
    "  \n",
    "  # Generiamo i valori iniziali per ogni filtro.\n",
    "\n",
    "  # La definizione dei pesi include anche la struttura del nostro filtro.\n",
    "  # Ogni filtro è un tensore di 4 dimensioni: [filter_height, filter_width, in_channels, out_channels]\n",
    "  # filter_height e filter_width definiscono la dimensione del Local receptive field.\n",
    "  # in_channels è la profondità del tensore in input (nel nostro caso 1)\n",
    "  # out_channels è la profondità del convolution layer (nel nostro caso 16).\n",
    "\n",
    "  # Input depth: 1\n",
    "  # Output depth: 16\n",
    "  layer1_weights = tf.Variable(tf.truncated_normal(\n",
    "      [patch_size, patch_size, num_channels, depth], stddev=0.1))\n",
    "  layer1_biases = tf.Variable(tf.zeros([depth]))\n",
    "\n",
    "  # layer 2\n",
    "  # Input depth: 16\n",
    "  # Output depth: 16    \n",
    "  # Il filtro ha la stessa dimensione del precedente, ma l'input depth corrisponde all'output depth del layer precedente.\n",
    "  layer2_weights = tf.Variable(tf.truncated_normal(\n",
    "      [patch_size, patch_size, depth, depth], stddev=0.1))\n",
    "  layer2_biases = tf.Variable(tf.constant(1.0, shape=[depth]))\n",
    "\n",
    "  # layer 3 \n",
    "  # E' un hidden layer tradizionale (full-connected) che raccoglie l'output del layer precedente.\n",
    "  # Abbiamo applicato 2 conv layer con stride = 2 (vedi blocco codice seguente).\n",
    "  # Con stride 2 la dimensione dell'input si dimezza ogni volta.\n",
    "  # Per questo abbiamo un input di dimensioni: ((image_size / 4) * (image_size / 4) * depth)\n",
    "  # Il layer ha 64 nodi.\n",
    "  final_image_size = output_size_no_pool(image_size, patch_size, padding='SAME', stride=stride)\n",
    "  layer3_weights = tf.Variable(tf.truncated_normal(\n",
    "      [final_image_size * final_image_size * depth, num_hidden], stddev=0.1))\n",
    "  layer3_biases = tf.Variable(tf.constant(1.0, shape=[num_hidden]))\n",
    "\n",
    "  # layer di output\n",
    "  layer4_weights = tf.Variable(tf.truncated_normal(\n",
    "      [num_hidden, num_labels], stddev=0.1))\n",
    "  layer4_biases = tf.Variable(tf.constant(1.0, shape=[num_labels]))\n",
    "  \n",
    "  # Per chiarezza definisco una funzione model che raggruppa tutte le operazioni \n",
    "  def model(data):        \n",
    "    # tf.nn.conv2d prende in input: i dati su cui operare la convoluzione, il tensore che rappresenta il filtro,\n",
    "    # un vettore di 4 int corrispondenti agli stride.\n",
    "    # Di questo ultimo vettore, ci interessano i due valori centrali (stride di 2 celle in verticale e orizzontale).\n",
    "    # Aggiungo 0-padding all'input (padding=SAME) in modo che la finestra del filtro (5x5) scorra su tutti i dati (28x28).\n",
    "    conv = tf.nn.conv2d(data, layer1_weights, [1, stride, stride, 1], padding='SAME')\n",
    "    hidden = tf.nn.relu(conv + layer1_biases)\n",
    "    conv = tf.nn.conv2d(hidden, layer2_weights, [1, stride, stride, 1], padding='SAME')\n",
    "    hidden = tf.nn.relu(conv + layer2_biases)\n",
    "    # Leggiamo le dimensioni del tensore a valle del secondo layer + RELU\n",
    "    shape = hidden.get_shape().as_list()\n",
    "    # Adatto il tensore ottenuto dalla 2a convoluzione in modo da poterlo moltiplicare con il 3o layer \n",
    "    reshape = tf.reshape(hidden, [shape[0], shape[1] * shape[2] * shape[3]])\n",
    "    hidden = tf.nn.relu(tf.matmul(reshape, layer3_weights) + layer3_biases)\n",
    "    return tf.matmul(hidden, layer4_weights) + layer4_biases\n",
    "  \n",
    "  logits = model(tf_train_dataset)\n",
    "\n",
    "  loss = tf.reduce_mean(\n",
    "    tf.nn.softmax_cross_entropy_with_logits(labels=tf_train_labels, logits=logits))    \n",
    "  optimizer = tf.train.GradientDescentOptimizer(0.05).minimize(loss)  \n",
    "  train_prediction = tf.nn.softmax(logits)\n",
    "  valid_prediction = tf.nn.softmax(model(tf_valid_dataset))\n",
    "  test_prediction = tf.nn.softmax(model(tf_test_dataset))"
   ]
  },
  {
   "cell_type": "code",
   "execution_count": 18,
   "metadata": {},
   "outputs": [
    {
     "name": "stdout",
     "output_type": "stream",
     "text": [
      "Initialized\n",
      "Minibatch loss at step 0: 3.418907\n",
      "Minibatch accuracy: 6.2%\n",
      "Validation accuracy: 12.3%\n",
      "Minibatch loss at step 500: 0.723839\n",
      "Minibatch accuracy: 75.0%\n",
      "Validation accuracy: 80.0%\n",
      "Minibatch loss at step 1000: 1.106687\n",
      "Minibatch accuracy: 75.0%\n",
      "Validation accuracy: 84.4%\n",
      "Minibatch loss at step 1500: 0.214102\n",
      "Minibatch accuracy: 87.5%\n",
      "Validation accuracy: 85.5%\n",
      "Minibatch loss at step 2000: 0.497053\n",
      "Minibatch accuracy: 87.5%\n",
      "Validation accuracy: 86.2%\n",
      "Minibatch loss at step 2500: 0.197122\n",
      "Minibatch accuracy: 93.8%\n",
      "Validation accuracy: 86.5%\n",
      "Test accuracy: 92.5%\n"
     ]
    }
   ],
   "source": [
    "# Ridurre se impiega troppo tempo\n",
    "num_steps = 3000\n",
    "\n",
    "with tf.Session(graph=graph) as session:\n",
    "  tf.global_variables_initializer().run()\n",
    "  print('Initialized')\n",
    "  for step in range(num_steps):\n",
    "    offset = (step * batch_size) % (train_labels.shape[0] - batch_size)\n",
    "    batch_data = train_dataset[offset:(offset + batch_size), :, :, :]\n",
    "    batch_labels = train_labels[offset:(offset + batch_size), :]\n",
    "    \n",
    "    feed_dict = {tf_train_dataset : batch_data, tf_train_labels : batch_labels}\n",
    "    _, l, predictions = session.run(\n",
    "      [optimizer, loss, train_prediction], feed_dict=feed_dict)\n",
    "    if (step % 500 == 0):\n",
    "      print('Minibatch loss at step %d: %f' % (step, l))\n",
    "      print('Minibatch accuracy: %.1f%%' % accuracy(predictions, batch_labels))\n",
    "      print('Validation accuracy: %.1f%%' % accuracy(\n",
    "        valid_prediction.eval(), valid_labels))\n",
    "  print('Test accuracy: %.1f%%' % accuracy(test_prediction.eval(), test_labels))"
   ]
  },
  {
   "cell_type": "code",
   "execution_count": null,
   "metadata": {
    "collapsed": true
   },
   "outputs": [],
   "source": [
    "## PROBLEMA #2\n",
    "# Alterare la rete considerando un max pooling con stride 2 e dimensioni del filtro pari a 2.\n",
    "\n",
    "# Suggerimento: La funzione nn.max_pool() calcola il max pooling."
   ]
  },
  {
   "cell_type": "code",
   "execution_count": null,
   "metadata": {
    "collapsed": true
   },
   "outputs": [],
   "source": [
    "## PROBLEMA #3\n",
    "# Prova ad aumentare l'efficienza aggiungendo Dropout e usando il Learning rate decay."
   ]
  },
  {
   "cell_type": "code",
   "execution_count": null,
   "metadata": {
    "collapsed": true
   },
   "outputs": [],
   "source": [
    "# Proviamo con la configurazione: \n",
    "# Convolution -> Pooling -> Convolution -> Pooling -> Fully-connected -> Fully-connected -> Readout\n",
    "# Pooling = Average Pooling con dimensione 2 e pool_stride = 2; padding='VALID'\n",
    "# Per prevenire overfitting applico: Learning rate decay + L2 Regularization + Dropout"
   ]
  }
 ],
 "metadata": {
  "kernelspec": {
   "display_name": "Python 3",
   "language": "python",
   "name": "python3"
  },
  "language_info": {
   "codemirror_mode": {
    "name": "ipython",
    "version": 3
   },
   "file_extension": ".py",
   "mimetype": "text/x-python",
   "name": "python",
   "nbconvert_exporter": "python",
   "pygments_lexer": "ipython3",
   "version": "3.6.1"
  }
 },
 "nbformat": 4,
 "nbformat_minor": 2
}
